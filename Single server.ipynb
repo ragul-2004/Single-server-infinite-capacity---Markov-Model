{
 "cells": [
  {
   "cell_type": "code",
   "execution_count": 1,
   "id": "b8bedca4",
   "metadata": {},
   "outputs": [
    {
     "name": "stdout",
     "output_type": "stream",
     "text": [
      "Enter the mean inter arrival time of objects from Feeder (in secs): 12\n",
      "Enter the mean  inter service time of Lathe Machine (in secs) :  1\n",
      "Enter the Additional time taken for the Robot (in secs) :  7\n",
      "--------------------------------------------------------------\n",
      "Single Server with Infinite Capacity - (M/M/1):(oo/FIFO)\n",
      "--------------------------------------------------------------\n",
      "The mean arrival rate per second : 0.08 \n",
      "The mean service rate per second : 0.12 \n",
      "Average number of objects in the system : 2.00 \n",
      "Average number of objects in the conveyor :  1.33 \n",
      "Average waiting time of an object in the system : 24.00 secs\n",
      "Average waiting time of an object in the conveyor : 16.00 secs\n",
      "Probability that the system is busy : 0.67 \n",
      "Probability that the system is empty : 0.33 \n",
      "---------------------------------------------------------------\n"
     ]
    }
   ],
   "source": [
    "arr_time=float(input(\"Enter the mean inter arrival time of objects from Feeder (in secs): \"))\n",
    "ser_time=float(input(\"Enter the mean  inter service time of Lathe Machine (in secs) :  \"))\n",
    "Robot_time=float(input(\"Enter the Additional time taken for the Robot (in secs) :  \"))\n",
    "lam=1/arr_time\n",
    "mu=1/(ser_time+Robot_time)\n",
    "print(\"--------------------------------------------------------------\")\n",
    "print(\"Single Server with Infinite Capacity - (M/M/1):(oo/FIFO)\")\n",
    "print(\"--------------------------------------------------------------\")\n",
    "print(\"The mean arrival rate per second : %0.2f \"%lam)\n",
    "print(\"The mean service rate per second : %0.2f \"%mu)\n",
    "if (lam <  mu):\n",
    "    Ls=lam/(mu-lam)\n",
    "    Lq=Ls-lam/mu\n",
    "    Ws=Ls/lam\n",
    "    Wq=Lq/lam\n",
    "    print(\"Average number of objects in the system : %0.2f \"%Ls)\n",
    "    print(\"Average number of objects in the conveyor :  %0.2f \"%Lq)\n",
    "    print(\"Average waiting time of an object in the system : %0.2f secs\"%Ws)\n",
    "    print(\"Average waiting time of an object in the conveyor : %0.2f secs\"%Wq)\n",
    "    print(\"Probability that the system is busy : %0.2f \"%(lam/mu) )\n",
    "    print(\"Probability that the system is empty : %0.2f \"%(1-lam/mu) )\n",
    "else:\n",
    "    print(\"Warning! Objects Over flow will happen in the conveyor\")\n",
    "print(\"---------------------------------------------------------------\")\n",
    "\n"
   ]
  },
  {
   "cell_type": "code",
   "execution_count": null,
   "id": "a7f6a5e4",
   "metadata": {},
   "outputs": [],
   "source": []
  }
 ],
 "metadata": {
  "kernelspec": {
   "display_name": "Python 3 (ipykernel)",
   "language": "python",
   "name": "python3"
  },
  "language_info": {
   "codemirror_mode": {
    "name": "ipython",
    "version": 3
   },
   "file_extension": ".py",
   "mimetype": "text/x-python",
   "name": "python",
   "nbconvert_exporter": "python",
   "pygments_lexer": "ipython3",
   "version": "3.8.12"
  }
 },
 "nbformat": 4,
 "nbformat_minor": 5
}
